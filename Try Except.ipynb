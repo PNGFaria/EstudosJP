{
 "cells": [
  {
   "cell_type": "code",
   "execution_count": 5,
   "metadata": {},
   "outputs": [
    {
     "name": "stdout",
     "output_type": "stream",
     "text": [
      "Não é possível dividir um número por 0.\n",
      "Fim do programa.\n"
     ]
    }
   ],
   "source": [
    "try:\n",
    "    n = float(input('Digite um número: '))\n",
    "    n2 = float(input('Digite outro número: '))\n",
    "    res = n/n2\n",
    "except ZeroDivisionError:\n",
    "    print('Não é possível dividir um número por 0.')\n",
    "else:\n",
    "    print(f'O resultado é {res}')\n",
    "finally:\n",
    "    print('Fim do programa.')\n"
   ]
  },
  {
   "cell_type": "code",
   "execution_count": 17,
   "metadata": {},
   "outputs": [
    {
     "name": "stdout",
     "output_type": "stream",
     "text": [
      "Pessoa não inserida na lista\n",
      "Fim do programa\n"
     ]
    }
   ],
   "source": [
    "idades = {'Júlia': 16, 'Carol': 23, 'Alberto': 19, 'Roberta': 17}\n",
    "try:\n",
    "    p = str(input('Digite o nome da pessoa que deseja ver a idade: '))\n",
    "    print(f'A idade de {p} é {idades[p]}')\n",
    "except KeyError:\n",
    "    print('Pessoa não inserida na lista')\n",
    "finally:\n",
    "    print('Fim do programa')"
   ]
  }
 ],
 "metadata": {
  "kernelspec": {
   "display_name": "Python 3",
   "language": "python",
   "name": "python3"
  },
  "language_info": {
   "codemirror_mode": {
    "name": "ipython",
    "version": 3
   },
   "file_extension": ".py",
   "mimetype": "text/x-python",
   "name": "python",
   "nbconvert_exporter": "python",
   "pygments_lexer": "ipython3",
   "version": "3.11.4"
  },
  "orig_nbformat": 4
 },
 "nbformat": 4,
 "nbformat_minor": 2
}
